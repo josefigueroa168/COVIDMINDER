{
 "cells": [
  {
   "cell_type": "markdown",
   "metadata": {},
   "source": [
    "# Exemple of prediction using the Predictor class"
   ]
  },
  {
   "cell_type": "code",
   "execution_count": 1,
   "metadata": {},
   "outputs": [],
   "source": [
    "from predictor import Predictor"
   ]
  },
  {
   "cell_type": "markdown",
   "metadata": {},
   "source": [
    "The Predictor class is built using three argument : \n",
    "* $\\texttt{state}$ : the abbreviation of the state on which we want to make the prediction. \n",
    "* $\\texttt{path}$ : the path to the COVIDMINDER folder : the program will use the file COVIDMINDER/data/csv/time_series/covid_TS_counties_long.cases.csv\n",
    "* $\\texttt{col}$ : the column on which we want to make the predictions (for exemple : p_cases,p_diff,cases,deaths, etc..)"
   ]
  },
  {
   "cell_type": "code",
   "execution_count": 2,
   "metadata": {},
   "outputs": [],
   "source": [
    "#state='NY'\n",
    "path = '../' \n",
    "col = 'diff' \n",
    "#Pred=Predictor(state=state,path=path,col=col)\n",
    "Pred=Predictor(path=path,col=col)"
   ]
  },
  {
   "cell_type": "markdown",
   "metadata": {},
   "source": [
    "Once the model is built, it needs to build the data it will train on. The method $\\texttt{Build_Data}$ does that, it returns the DataFrame on which the model will be trained. This dataframe has dates as index, names of the counties as column names, and the selected column value for said county at said date."
   ]
  },
  {
   "cell_type": "code",
   "execution_count": 4,
   "metadata": {},
   "outputs": [
    {
     "data": {
      "text/plain": [
       "countyFIPS  date                \n",
       "6085        2020-02-26T00:00:00Z    7\n",
       "            2020-02-27T00:00:00Z    0\n",
       "            2020-02-28T00:00:00Z    2\n",
       "            2020-02-29T00:00:00Z    4\n",
       "53033       2020-02-29T00:00:00Z    6\n",
       "                                   ..\n",
       "56035       2020-07-17T00:00:00Z    6\n",
       "56037       2020-07-17T00:00:00Z    4\n",
       "56039       2020-07-17T00:00:00Z    6\n",
       "56041       2020-07-17T00:00:00Z    2\n",
       "56043       2020-07-17T00:00:00Z    0\n",
       "Name: diff, Length: 262468, dtype: int64"
      ]
     },
     "metadata": {},
     "output_type": "display_data"
    }
   ],
   "source": [
    "Data=Pred.Build_Data()\n",
    "display(Data)"
   ]
  },
  {
   "cell_type": "markdown",
   "metadata": {},
   "source": [
    "Once this is done, the best parameters can be found using $\\texttt{GridSearch(n_days)}$. This evaluates the Mean Absolute Error for each parameters, over $\\texttt{n_days}$ days, and prints the best parameters and its score (this step takes a while)."
   ]
  },
  {
   "cell_type": "code",
   "execution_count": null,
   "metadata": {},
   "outputs": [],
   "source": [
    "Pred.GridSearch(n_days=7)"
   ]
  },
  {
   "cell_type": "markdown",
   "metadata": {},
   "source": [
    "The prediction can then be made using $\\texttt{Prediction(n_days,params)}$ where n_days is the number of out-of-sample days to predict the values. The params argument can either be the $(p,d,q)$ parameters of the ARIMA model, or 'Best', to use the found parameters found using the Grid Search. By default, it uses the best parameters. The output has 5 columns : the usual date and county, aswell as :\n",
    "* $\\texttt{mean}$ : the actual prediction\n",
    "* $\\texttt{mean_ci_upper}$ and $\\texttt{mean_ci_lower}$ : Respectively the upper and lower bounds of the confidence interval.\n",
    "The output can then be saved using the $\\texttt{save_pred(pathsave)}$ method."
   ]
  },
  {
   "cell_type": "code",
   "execution_count": null,
   "metadata": {
    "scrolled": true
   },
   "outputs": [],
   "source": [
    "output=Pred.Prediction(n_days=7)\n",
    "display(output)\n",
    "Pred.save_pred('Prediction_NY.csv')"
   ]
  },
  {
   "cell_type": "code",
   "execution_count": null,
   "metadata": {},
   "outputs": [],
   "source": []
  }
 ],
 "metadata": {
  "kernelspec": {
   "display_name": "Python 3",
   "language": "python",
   "name": "python3"
  },
  "language_info": {
   "codemirror_mode": {
    "name": "ipython",
    "version": 3
   },
   "file_extension": ".py",
   "mimetype": "text/x-python",
   "name": "python",
   "nbconvert_exporter": "python",
   "pygments_lexer": "ipython3",
   "version": "3.7.2"
  }
 },
 "nbformat": 4,
 "nbformat_minor": 4
}
